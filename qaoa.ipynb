{
 "cells": [
  {
   "cell_type": "code",
   "execution_count": 64,
   "metadata": {},
   "outputs": [
    {
     "name": "stdout",
     "output_type": "stream",
     "text": [
      "Using alice & bob EMU:40Q:LOGICAL_TARGET backend...\n"
     ]
    },
    {
     "data": {
      "text/plain": [
       "tensor(-0.06640625, requires_grad=True)"
      ]
     },
     "execution_count": 64,
     "metadata": {},
     "output_type": "execute_result"
    }
   ],
   "source": [
    "import pennylane as qml\n",
    "from pennylane import numpy as np\n",
    "from functools import partial\n",
    "\n",
    "#dev = qml.device(\"alicebob.qubit\", alice_backend=\"EMU:15Q:LOGICAL_EARLY\", wires=3, average_nb_photons=4, kappa_2=1e4)\n",
    "#dev = qml.device(\"alicebob.qubit\", alice_backend=\"EMU:40Q:LOGICAL_TARGET\", wires=3, average_nb_photons=4, kappa_2=1e4)\n",
    "dev = qml.device(\"default.qubit\", wires=3)\n",
    "\n",
    "#@partial(qml.cut_circuit, auto_cutter=True)  # auto_cutter enabled\n",
    "@qml.qnode(dev)\n",
    "def circuit(x):\n",
    "    qml.Hadamard(wires=0)\n",
    "    qml.Hadamard(wires=1)\n",
    "\n",
    "\n",
    "    qml.CZ(wires=[0, 1])\n",
    "    qml.Hadamard(wires=0)\n",
    "\n",
    "    qml.CZ(wires=[1, 2])\n",
    "\n",
    "    return qml.expval(qml.pauli.string_to_pauli_word(\"ZZZ\"))\n",
    "\n",
    "\n",
    "#x = np.array(0.531, requires_grad=True)\n",
    "circuit(x)\n",
    "#qml.draw_mpl(circuit)(x)"
   ]
  }
 ],
 "metadata": {
  "kernelspec": {
   "display_name": "Python 3",
   "language": "python",
   "name": "python3"
  },
  "language_info": {
   "codemirror_mode": {
    "name": "ipython",
    "version": 3
   },
   "file_extension": ".py",
   "mimetype": "text/x-python",
   "name": "python",
   "nbconvert_exporter": "python",
   "pygments_lexer": "ipython3",
   "version": "3.11.8"
  }
 },
 "nbformat": 4,
 "nbformat_minor": 2
}
