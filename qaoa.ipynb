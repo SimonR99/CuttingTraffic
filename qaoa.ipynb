{
 "cells": [
  {
   "cell_type": "code",
   "execution_count": 1,
   "metadata": {},
   "outputs": [
    {
     "data": {
      "text/plain": [
       "0.47165198882111165"
      ]
     },
     "execution_count": 1,
     "metadata": {},
     "output_type": "execute_result"
    }
   ],
   "source": [
    "import pennylane as qml\n",
    "from pennylane import numpy as np\n",
    "from functools import partial\n",
    "\n",
    "dev = qml.device(\"default.qubit\", wires=3)\n",
    "\n",
    "\n",
    "@partial(qml.cut_circuit, auto_cutter=True)  # auto_cutter enabled\n",
    "@qml.qnode(dev)\n",
    "def circuit(x):\n",
    "    qml.RX(x, wires=0)\n",
    "    qml.RY(0.9, wires=1)\n",
    "    qml.RX(0.3, wires=2)\n",
    "\n",
    "    qml.CZ(wires=[0, 1])\n",
    "    qml.RY(-0.4, wires=0)\n",
    "\n",
    "    qml.CZ(wires=[1, 2])\n",
    "\n",
    "    return qml.expval(qml.pauli.string_to_pauli_word(\"ZZZ\"))\n",
    "\n",
    "\n",
    "x = np.array(0.531, requires_grad=True)\n",
    "circuit(x)"
   ]
  }
 ],
 "metadata": {
  "kernelspec": {
   "display_name": "Python 3",
   "language": "python",
   "name": "python3"
  },
  "language_info": {
   "codemirror_mode": {
    "name": "ipython",
    "version": 3
   },
   "file_extension": ".py",
   "mimetype": "text/x-python",
   "name": "python",
   "nbconvert_exporter": "python",
   "pygments_lexer": "ipython3",
   "version": "3.11.8"
  }
 },
 "nbformat": 4,
 "nbformat_minor": 2
}
